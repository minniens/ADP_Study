{
 "cells": [
  {
   "cell_type": "code",
   "execution_count": 2,
   "id": "7a1175ab-be16-407e-9d3c-2ef8790f1885",
   "metadata": {},
   "outputs": [],
   "source": [
    "import numpy as np\n",
    "import pandas as pd"
   ]
  },
  {
   "cell_type": "code",
   "execution_count": 20,
   "id": "7b31f1b3-f69b-406a-8faf-4c42eb77f3eb",
   "metadata": {},
   "outputs": [],
   "source": [
    "# 연평균 상승률의 대푯값 구하기"
   ]
  },
  {
   "cell_type": "code",
   "execution_count": 16,
   "id": "452fad62-28e3-446c-a051-a66e7c455470",
   "metadata": {},
   "outputs": [],
   "source": [
    "prod_2 = 100000\n",
    "prod_1 = 150000\n",
    "prod = 250000\n",
    "\n",
    "rt_2 = prod_1 / prod_2\n",
    "rt_1 = prod / prod_1\n",
    "\n",
    "rt_mid = ((rt_2 * rt_1) ** (1/2)) * 100"
   ]
  },
  {
   "cell_type": "code",
   "execution_count": 18,
   "id": "2b9b00e5-105c-4076-a463-e5fdb64de73f",
   "metadata": {},
   "outputs": [
    {
     "name": "stdout",
     "output_type": "stream",
     "text": [
      "158.11388300841898 %\n"
     ]
    }
   ],
   "source": [
    "print(rt_mid, '%')"
   ]
  },
  {
   "cell_type": "code",
   "execution_count": 58,
   "id": "2a2c5629-69cc-4d94-88d0-2316c15186d0",
   "metadata": {},
   "outputs": [],
   "source": [
    "# 정규분포의 모평균 구간추정: 모분산 모르는 경우. 답지는 표준편차로 했네..."
   ]
  },
  {
   "cell_type": "code",
   "execution_count": 44,
   "id": "1514b208-f353-4881-8d88-dd8daedc9b15",
   "metadata": {},
   "outputs": [
    {
     "name": "stdout",
     "output_type": "stream",
     "text": [
      "14.572609067393861 16.427390932606137\n"
     ]
    }
   ],
   "source": [
    "from scipy import stats\n",
    "\n",
    "n=12\n",
    "df = 11\n",
    "mean = 15.5\n",
    "var = 3.2\n",
    "\n",
    "rv = stats.t(df)\n",
    "lcl = mean - rv.isf(0.05) * np.sqrt(var/n)\n",
    "ucl = mean - rv.isf(0.95) * np.sqrt(var/n)\n",
    "\n",
    "print(lcl, ucl)"
   ]
  },
  {
   "cell_type": "code",
   "execution_count": 46,
   "id": "163cbef6-4f57-4d58-bd92-c565d55344e7",
   "metadata": {},
   "outputs": [
    {
     "data": {
      "text/plain": [
       "(14.572609067393861, 16.427390932606137)"
      ]
     },
     "execution_count": 46,
     "metadata": {},
     "output_type": "execute_result"
    }
   ],
   "source": [
    "stats.t.interval(loc=15.5, scale=np.sqrt(var/n), df=df, confidence=0.90)"
   ]
  },
  {
   "cell_type": "code",
   "execution_count": 52,
   "id": "a8445f79-47b7-4646-a9b0-8b948ec68015",
   "metadata": {},
   "outputs": [],
   "source": [
    "# 2 표본 문제에 대한 가설검정. 대응표본, 정규분포 가정 --> 대응비교 t 검정"
   ]
  },
  {
   "cell_type": "code",
   "execution_count": 48,
   "id": "a93daa09-fcfb-45e4-aa64-4ced296ccb25",
   "metadata": {},
   "outputs": [],
   "source": [
    "df = pd.read_csv('27_problem7.csv')"
   ]
  },
  {
   "cell_type": "code",
   "execution_count": 50,
   "id": "274ee7f2-ef47-4ed7-84ca-369e46ee0c4d",
   "metadata": {},
   "outputs": [
    {
     "data": {
      "text/html": [
       "<div>\n",
       "<style scoped>\n",
       "    .dataframe tbody tr th:only-of-type {\n",
       "        vertical-align: middle;\n",
       "    }\n",
       "\n",
       "    .dataframe tbody tr th {\n",
       "        vertical-align: top;\n",
       "    }\n",
       "\n",
       "    .dataframe thead th {\n",
       "        text-align: right;\n",
       "    }\n",
       "</style>\n",
       "<table border=\"1\" class=\"dataframe\">\n",
       "  <thead>\n",
       "    <tr style=\"text-align: right;\">\n",
       "      <th></th>\n",
       "      <th>river</th>\n",
       "      <th>up</th>\n",
       "      <th>down</th>\n",
       "    </tr>\n",
       "  </thead>\n",
       "  <tbody>\n",
       "    <tr>\n",
       "      <th>0</th>\n",
       "      <td>a</td>\n",
       "      <td>57.1</td>\n",
       "      <td>45.7</td>\n",
       "    </tr>\n",
       "    <tr>\n",
       "      <th>1</th>\n",
       "      <td>b</td>\n",
       "      <td>51.6</td>\n",
       "      <td>37.2</td>\n",
       "    </tr>\n",
       "    <tr>\n",
       "      <th>2</th>\n",
       "      <td>c</td>\n",
       "      <td>53.9</td>\n",
       "      <td>53.3</td>\n",
       "    </tr>\n",
       "    <tr>\n",
       "      <th>3</th>\n",
       "      <td>d</td>\n",
       "      <td>59.0</td>\n",
       "      <td>54.3</td>\n",
       "    </tr>\n",
       "    <tr>\n",
       "      <th>4</th>\n",
       "      <td>e</td>\n",
       "      <td>57.5</td>\n",
       "      <td>46.3</td>\n",
       "    </tr>\n",
       "  </tbody>\n",
       "</table>\n",
       "</div>"
      ],
      "text/plain": [
       "  river    up  down\n",
       "0     a  57.1  45.7\n",
       "1     b  51.6  37.2\n",
       "2     c  53.9  53.3\n",
       "3     d  59.0  54.3\n",
       "4     e  57.5  46.3"
      ]
     },
     "execution_count": 50,
     "metadata": {},
     "output_type": "execute_result"
    }
   ],
   "source": [
    "df"
   ]
  },
  {
   "cell_type": "markdown",
   "id": "5c1827b8-c5bb-4667-8548-4a6d79f7a9cf",
   "metadata": {},
   "source": [
    "귀무가설_H0 : 상류와 하류의 생물다양성 점수에 차이가 없다.\n",
    "대립가설_H1 : 상류와 하류의 생물다양성 점수에 차이가 있다."
   ]
  },
  {
   "cell_type": "code",
   "execution_count": 54,
   "id": "bd1d95c6-e010-4c37-a7f8-10d8f104ca07",
   "metadata": {},
   "outputs": [
    {
     "name": "stdout",
     "output_type": "stream",
     "text": [
      "3.3526056764717995 0.028499777234053288\n"
     ]
    }
   ],
   "source": [
    "t, p = stats.ttest_rel(df['up'], df['down'])\n",
    "\n",
    "print(t,p)"
   ]
  },
  {
   "cell_type": "code",
   "execution_count": 56,
   "id": "f4f4a2aa-afa8-441e-b871-ecd35312f062",
   "metadata": {},
   "outputs": [],
   "source": [
    "# p-value 0.028로 0.1 미만으로 귀무가설 기각, 대립가설 채택 --> 상류와 하류의 생물다양성 점수에 유의미한 차이가 있다."
   ]
  },
  {
   "cell_type": "markdown",
   "id": "5d27b2cc-b3c3-4eb0-8c81-008f0fa25748",
   "metadata": {},
   "source": [
    "Quantile regression "
   ]
  },
  {
   "cell_type": "code",
   "execution_count": 62,
   "id": "ef8828fc-d90d-40de-a643-40f4beebc2d0",
   "metadata": {},
   "outputs": [],
   "source": [
    "df_5 = pd.read_csv('27_problem8.csv')"
   ]
  },
  {
   "cell_type": "code",
   "execution_count": 66,
   "id": "59531ae9-c06c-48ec-93ad-9a33d84d5e54",
   "metadata": {},
   "outputs": [
    {
     "data": {
      "text/html": [
       "<div>\n",
       "<style scoped>\n",
       "    .dataframe tbody tr th:only-of-type {\n",
       "        vertical-align: middle;\n",
       "    }\n",
       "\n",
       "    .dataframe tbody tr th {\n",
       "        vertical-align: top;\n",
       "    }\n",
       "\n",
       "    .dataframe thead th {\n",
       "        text-align: right;\n",
       "    }\n",
       "</style>\n",
       "<table border=\"1\" class=\"dataframe\">\n",
       "  <thead>\n",
       "    <tr style=\"text-align: right;\">\n",
       "      <th></th>\n",
       "      <th>temperature</th>\n",
       "      <th>wind</th>\n",
       "      <th>precipitation</th>\n",
       "      <th>user_counts</th>\n",
       "    </tr>\n",
       "  </thead>\n",
       "  <tbody>\n",
       "    <tr>\n",
       "      <th>0</th>\n",
       "      <td>10.400000</td>\n",
       "      <td>4.600000</td>\n",
       "      <td>0.844944</td>\n",
       "      <td>6368</td>\n",
       "    </tr>\n",
       "    <tr>\n",
       "      <th>1</th>\n",
       "      <td>5.666667</td>\n",
       "      <td>4.625000</td>\n",
       "      <td>0.040860</td>\n",
       "      <td>5902</td>\n",
       "    </tr>\n",
       "    <tr>\n",
       "      <th>2</th>\n",
       "      <td>4.933333</td>\n",
       "      <td>4.725000</td>\n",
       "      <td>0.008696</td>\n",
       "      <td>6226</td>\n",
       "    </tr>\n",
       "    <tr>\n",
       "      <th>3</th>\n",
       "      <td>3.400000</td>\n",
       "      <td>2.675000</td>\n",
       "      <td>0.156989</td>\n",
       "      <td>5829</td>\n",
       "    </tr>\n",
       "    <tr>\n",
       "      <th>4</th>\n",
       "      <td>8.900000</td>\n",
       "      <td>3.950000</td>\n",
       "      <td>7.988462</td>\n",
       "      <td>7589</td>\n",
       "    </tr>\n",
       "    <tr>\n",
       "      <th>...</th>\n",
       "      <td>...</td>\n",
       "      <td>...</td>\n",
       "      <td>...</td>\n",
       "      <td>...</td>\n",
       "    </tr>\n",
       "    <tr>\n",
       "      <th>2092</th>\n",
       "      <td>3.500000</td>\n",
       "      <td>2.100000</td>\n",
       "      <td>0.024096</td>\n",
       "      <td>5430</td>\n",
       "    </tr>\n",
       "    <tr>\n",
       "      <th>2093</th>\n",
       "      <td>8.233333</td>\n",
       "      <td>2.000000</td>\n",
       "      <td>16.843820</td>\n",
       "      <td>2125</td>\n",
       "    </tr>\n",
       "    <tr>\n",
       "      <th>2094</th>\n",
       "      <td>9.500000</td>\n",
       "      <td>3.666667</td>\n",
       "      <td>11.550575</td>\n",
       "      <td>6008</td>\n",
       "    </tr>\n",
       "    <tr>\n",
       "      <th>2095</th>\n",
       "      <td>4.800000</td>\n",
       "      <td>1.200000</td>\n",
       "      <td>0.104651</td>\n",
       "      <td>4929</td>\n",
       "    </tr>\n",
       "    <tr>\n",
       "      <th>2096</th>\n",
       "      <td>4.166667</td>\n",
       "      <td>1.466667</td>\n",
       "      <td>2.088235</td>\n",
       "      <td>2401</td>\n",
       "    </tr>\n",
       "  </tbody>\n",
       "</table>\n",
       "<p>2097 rows × 4 columns</p>\n",
       "</div>"
      ],
      "text/plain": [
       "      temperature      wind  precipitation  user_counts\n",
       "0       10.400000  4.600000       0.844944         6368\n",
       "1        5.666667  4.625000       0.040860         5902\n",
       "2        4.933333  4.725000       0.008696         6226\n",
       "3        3.400000  2.675000       0.156989         5829\n",
       "4        8.900000  3.950000       7.988462         7589\n",
       "...           ...       ...            ...          ...\n",
       "2092     3.500000  2.100000       0.024096         5430\n",
       "2093     8.233333  2.000000      16.843820         2125\n",
       "2094     9.500000  3.666667      11.550575         6008\n",
       "2095     4.800000  1.200000       0.104651         4929\n",
       "2096     4.166667  1.466667       2.088235         2401\n",
       "\n",
       "[2097 rows x 4 columns]"
      ]
     },
     "execution_count": 66,
     "metadata": {},
     "output_type": "execute_result"
    }
   ],
   "source": [
    "df_5"
   ]
  },
  {
   "cell_type": "code",
   "execution_count": 70,
   "id": "364de14c-4769-43c1-b474-9a08078f21aa",
   "metadata": {},
   "outputs": [],
   "source": [
    "import matplotlib.pyplot as plt\n",
    "from sklearn.linear_model import QuantileRegressor\n",
    "from sklearn.model_selection import train_test_split"
   ]
  },
  {
   "cell_type": "code",
   "execution_count": 88,
   "id": "6c0ef36d-78d2-496f-a800-085879570850",
   "metadata": {},
   "outputs": [],
   "source": [
    "pd.set_option('display.float_format', lambda x: f'{x:.40f}')"
   ]
  },
  {
   "cell_type": "code",
   "execution_count": 168,
   "id": "03d76f8e-91c8-4256-8189-63909020e7cc",
   "metadata": {},
   "outputs": [
    {
     "name": "stdout",
     "output_type": "stream",
     "text": [
      "회귀 계수: [217.19322990126943   0.                 0.              ]\n",
      "계수 0: 217.19322990126943295763339847326278686523437500000000\n",
      "계수 1: 0.00000000000000000000000000000000000000000000000000\n",
      "계수 2: 0.00000000000000000000000000000000000000000000000000\n"
     ]
    }
   ],
   "source": [
    "X = df_5[['temperature', 'wind', 'precipitation']]\n",
    "y = df_5['user_counts']\n",
    "\n",
    "X_train, X_test, y_train, y_test = train_test_split(X, y, test_size=0.3)\n",
    "\n",
    "model = QuantileRegressor()\n",
    "model.fit(X_train, y_train)\n",
    "\n",
    "np.set_printoptions(precision=50)\n",
    "coef = model.coef_\n",
    "\n",
    "#####왜 회귀계수 2와 3이 죽었지?????????\n",
    "\n",
    "print(\"회귀 계수:\", coef)\n",
    "\n",
    "for idx, coef in enumerate(model.coef_):\n",
    "    print(f\"계수 {idx}: {coef:.50f}\")"
   ]
  },
  {
   "cell_type": "code",
   "execution_count": 170,
   "id": "fec733b7-1d81-4b63-9626-a4c96917c464",
   "metadata": {},
   "outputs": [
    {
     "data": {
      "text/plain": [
       "2280.528913963329"
      ]
     },
     "execution_count": 170,
     "metadata": {},
     "output_type": "execute_result"
    }
   ],
   "source": [
    "10.5 * model.coef_[0]"
   ]
  },
  {
   "cell_type": "markdown",
   "id": "ef3ace11-25f2-4572-b1ff-f473b1138bca",
   "metadata": {},
   "source": [
    "** type 3 ANOVA"
   ]
  },
  {
   "cell_type": "code",
   "execution_count": 176,
   "id": "dc212350-9d3e-4209-a04c-7769037ee527",
   "metadata": {},
   "outputs": [
    {
     "data": {
      "text/html": [
       "<div>\n",
       "<style scoped>\n",
       "    .dataframe tbody tr th:only-of-type {\n",
       "        vertical-align: middle;\n",
       "    }\n",
       "\n",
       "    .dataframe tbody tr th {\n",
       "        vertical-align: top;\n",
       "    }\n",
       "\n",
       "    .dataframe thead th {\n",
       "        text-align: right;\n",
       "    }\n",
       "</style>\n",
       "<table border=\"1\" class=\"dataframe\">\n",
       "  <thead>\n",
       "    <tr style=\"text-align: right;\">\n",
       "      <th></th>\n",
       "      <th>line</th>\n",
       "      <th>month</th>\n",
       "      <th>total</th>\n",
       "    </tr>\n",
       "  </thead>\n",
       "  <tbody>\n",
       "    <tr>\n",
       "      <th>0</th>\n",
       "      <td>1</td>\n",
       "      <td>1</td>\n",
       "      <td>1310</td>\n",
       "    </tr>\n",
       "    <tr>\n",
       "      <th>1</th>\n",
       "      <td>1</td>\n",
       "      <td>2</td>\n",
       "      <td>1300</td>\n",
       "    </tr>\n",
       "    <tr>\n",
       "      <th>2</th>\n",
       "      <td>1</td>\n",
       "      <td>3</td>\n",
       "      <td>1305</td>\n",
       "    </tr>\n",
       "    <tr>\n",
       "      <th>3</th>\n",
       "      <td>1</td>\n",
       "      <td>4</td>\n",
       "      <td>1200</td>\n",
       "    </tr>\n",
       "    <tr>\n",
       "      <th>4</th>\n",
       "      <td>1</td>\n",
       "      <td>5</td>\n",
       "      <td>1301</td>\n",
       "    </tr>\n",
       "    <tr>\n",
       "      <th>...</th>\n",
       "      <td>...</td>\n",
       "      <td>...</td>\n",
       "      <td>...</td>\n",
       "    </tr>\n",
       "    <tr>\n",
       "      <th>67</th>\n",
       "      <td>3</td>\n",
       "      <td>8</td>\n",
       "      <td>1365</td>\n",
       "    </tr>\n",
       "    <tr>\n",
       "      <th>68</th>\n",
       "      <td>3</td>\n",
       "      <td>9</td>\n",
       "      <td>1374</td>\n",
       "    </tr>\n",
       "    <tr>\n",
       "      <th>69</th>\n",
       "      <td>3</td>\n",
       "      <td>10</td>\n",
       "      <td>1337</td>\n",
       "    </tr>\n",
       "    <tr>\n",
       "      <th>70</th>\n",
       "      <td>3</td>\n",
       "      <td>11</td>\n",
       "      <td>1332</td>\n",
       "    </tr>\n",
       "    <tr>\n",
       "      <th>71</th>\n",
       "      <td>3</td>\n",
       "      <td>12</td>\n",
       "      <td>1343</td>\n",
       "    </tr>\n",
       "  </tbody>\n",
       "</table>\n",
       "<p>72 rows × 3 columns</p>\n",
       "</div>"
      ],
      "text/plain": [
       "    line  month  total\n",
       "0      1      1   1310\n",
       "1      1      2   1300\n",
       "2      1      3   1305\n",
       "3      1      4   1200\n",
       "4      1      5   1301\n",
       "..   ...    ...    ...\n",
       "67     3      8   1365\n",
       "68     3      9   1374\n",
       "69     3     10   1337\n",
       "70     3     11   1332\n",
       "71     3     12   1343\n",
       "\n",
       "[72 rows x 3 columns]"
      ]
     },
     "execution_count": 176,
     "metadata": {},
     "output_type": "execute_result"
    }
   ],
   "source": [
    "df_55 = pd.read_csv('27_problem9.csv')\n",
    "df_55"
   ]
  },
  {
   "cell_type": "markdown",
   "id": "b0536d41-79a0-4e0a-ae7d-1d4cf5bab461",
   "metadata": {},
   "source": [
    "1. 상호작용 효과검정\n",
    "귀무가설H0 :  지하철 호선과 월별, 승객 수 간 상관관계가 없다.\n",
    "대립가설H1 :  지하철 호선과 월별, 승객 수 간 상관관계가 있다.\n",
    "\n",
    "2. 주효과 검정\n",
    "    2.1) 귀무가설H0 : 지하철 호선별 승객 수 차이가 없다.\n",
    "         대립가설H1 : 지하철 호선별 승객 수 차이가 있다.\n",
    "    2.2) 귀무가설H0 : 지하철 월별 승객 수의 차이가 없다.\n",
    "         대립가설H1 : 지하철 월별 승객 수의 차이가 있다."
   ]
  },
  {
   "cell_type": "code",
   "execution_count": 187,
   "id": "97de3aea-9ec9-4718-82ae-cce2c09bc8c5",
   "metadata": {},
   "outputs": [
    {
     "data": {
      "text/html": [
       "<div>\n",
       "<style scoped>\n",
       "    .dataframe tbody tr th:only-of-type {\n",
       "        vertical-align: middle;\n",
       "    }\n",
       "\n",
       "    .dataframe tbody tr th {\n",
       "        vertical-align: top;\n",
       "    }\n",
       "\n",
       "    .dataframe thead th {\n",
       "        text-align: right;\n",
       "    }\n",
       "</style>\n",
       "<table border=\"1\" class=\"dataframe\">\n",
       "  <thead>\n",
       "    <tr style=\"text-align: right;\">\n",
       "      <th></th>\n",
       "      <th>sum_sq</th>\n",
       "      <th>df</th>\n",
       "      <th>F</th>\n",
       "      <th>PR(&gt;F)</th>\n",
       "    </tr>\n",
       "  </thead>\n",
       "  <tbody>\n",
       "    <tr>\n",
       "      <th>Intercept</th>\n",
       "      <td>3466344.5000000018626451492309570312500000000000</td>\n",
       "      <td>1.0000000000000000000000000000000000000000</td>\n",
       "      <td>33455.3356568364761187694966793060302734375000</td>\n",
       "      <td>0.0000000000000000000000000000000000000000</td>\n",
       "    </tr>\n",
       "    <tr>\n",
       "      <th>C(line)</th>\n",
       "      <td>133662.9999999998253770172595977783203125000000</td>\n",
       "      <td>2.0000000000000000000000000000000000000000</td>\n",
       "      <td>645.0225201072377103628241457045078277587891</td>\n",
       "      <td>0.0000000000000000000000000000641794594579</td>\n",
       "    </tr>\n",
       "    <tr>\n",
       "      <th>C(month)</th>\n",
       "      <td>39424.8333333334594499319791793823242187500000</td>\n",
       "      <td>11.0000000000000000000000000000000000000000</td>\n",
       "      <td>34.5916158908117097325884969905018806457520</td>\n",
       "      <td>0.0000000000000007896178813599910602543906</td>\n",
       "    </tr>\n",
       "    <tr>\n",
       "      <th>C(line):C(month)</th>\n",
       "      <td>96969.0833333340560784563422203063964843750000</td>\n",
       "      <td>22.0000000000000000000000000000000000000000</td>\n",
       "      <td>42.5406653668050935834799020085483789443970</td>\n",
       "      <td>0.0000000000000000001582231693043414203384</td>\n",
       "    </tr>\n",
       "    <tr>\n",
       "      <th>Residual</th>\n",
       "      <td>3730.0000000000000000000000000000000000000000</td>\n",
       "      <td>36.0000000000000000000000000000000000000000</td>\n",
       "      <td>NaN</td>\n",
       "      <td>NaN</td>\n",
       "    </tr>\n",
       "  </tbody>\n",
       "</table>\n",
       "</div>"
      ],
      "text/plain": [
       "                                                           sum_sq  \\\n",
       "Intercept        3466344.5000000018626451492309570312500000000000   \n",
       "C(line)           133662.9999999998253770172595977783203125000000   \n",
       "C(month)           39424.8333333334594499319791793823242187500000   \n",
       "C(line):C(month)   96969.0833333340560784563422203063964843750000   \n",
       "Residual            3730.0000000000000000000000000000000000000000   \n",
       "\n",
       "                                                          df  \\\n",
       "Intercept         1.0000000000000000000000000000000000000000   \n",
       "C(line)           2.0000000000000000000000000000000000000000   \n",
       "C(month)         11.0000000000000000000000000000000000000000   \n",
       "C(line):C(month) 22.0000000000000000000000000000000000000000   \n",
       "Residual         36.0000000000000000000000000000000000000000   \n",
       "\n",
       "                                                              F  \\\n",
       "Intercept        33455.3356568364761187694966793060302734375000   \n",
       "C(line)            645.0225201072377103628241457045078277587891   \n",
       "C(month)            34.5916158908117097325884969905018806457520   \n",
       "C(line):C(month)    42.5406653668050935834799020085483789443970   \n",
       "Residual                                                    NaN   \n",
       "\n",
       "                                                     PR(>F)  \n",
       "Intercept        0.0000000000000000000000000000000000000000  \n",
       "C(line)          0.0000000000000000000000000000641794594579  \n",
       "C(month)         0.0000000000000007896178813599910602543906  \n",
       "C(line):C(month) 0.0000000000000000001582231693043414203384  \n",
       "Residual                                                NaN  "
      ]
     },
     "execution_count": 187,
     "metadata": {},
     "output_type": "execute_result"
    }
   ],
   "source": [
    "import statsmodels.api as sm\n",
    "from statsmodels.formula.api import ols\n",
    "from statsmodels.stats.anova import anova_lm\n",
    "\n",
    "model = ols('total ~ C(line)*C(month)', data=df_55).fit()\n",
    "anova_table = anova_lm(model, typ=3)\n",
    "\n",
    "anova_table"
   ]
  },
  {
   "cell_type": "code",
   "execution_count": null,
   "id": "bb4ab696-f4cd-4a64-a5a9-32283ba68e3e",
   "metadata": {},
   "outputs": [],
   "source": []
  },
  {
   "cell_type": "code",
   "execution_count": null,
   "id": "76ed296a-d78a-48c7-ab76-34bc43b3639f",
   "metadata": {},
   "outputs": [],
   "source": []
  }
 ],
 "metadata": {
  "kernelspec": {
   "display_name": "Python 3 (ipykernel)",
   "language": "python",
   "name": "python3"
  },
  "language_info": {
   "codemirror_mode": {
    "name": "ipython",
    "version": 3
   },
   "file_extension": ".py",
   "mimetype": "text/x-python",
   "name": "python",
   "nbconvert_exporter": "python",
   "pygments_lexer": "ipython3",
   "version": "3.11.5"
  }
 },
 "nbformat": 4,
 "nbformat_minor": 5
}
